{
 "cells": [
  {
   "cell_type": "code",
   "execution_count": 1,
   "id": "8370fd1d-6649-464f-a53d-06a86dceedca",
   "metadata": {
    "tags": []
   },
   "outputs": [],
   "source": [
    "import numpy as np\n",
    "import matplotlib.pyplot as plt\n",
    "from gradient_descent import *"
   ]
  },
  {
   "cell_type": "code",
   "execution_count": 7,
   "id": "34f4ab3f-0504-4ca2-bb7f-08833e5923fd",
   "metadata": {
    "tags": []
   },
   "outputs": [],
   "source": [
    "def calculate_mse(e):\n",
    "    \"\"\"Calculate the mse for vector e.\"\"\"\n",
    "    return 1/2*np.mean(e**2)\n",
    "\n",
    "def compute_loss(y, tx, w):\n",
    "    \"\"\"Calculate the loss using mse\"\"\"\n",
    "    e = y - tx.dot(w)\n",
    "    return calculate_mse(e)"
   ]
  },
  {
   "cell_type": "markdown",
   "id": "2304d6a9-28cf-4399-abc4-07cd9f995664",
   "metadata": {},
   "source": [
    "## Linear Regression using Gradient Descent"
   ]
  },
  {
   "cell_type": "code",
   "execution_count": null,
   "id": "ef1c3d55-fe44-4b75-815c-7f5cdba03295",
   "metadata": {},
   "outputs": [],
   "source": []
  },
  {
   "cell_type": "markdown",
   "id": "d1abb274-7bad-468e-8fe9-6de35687da73",
   "metadata": {},
   "source": [
    "## Mean-squared error using Stochastic Gradient Descent"
   ]
  },
  {
   "cell_type": "code",
   "execution_count": null,
   "id": "1d367da2-be10-4816-9285-975cd9311f65",
   "metadata": {},
   "outputs": [],
   "source": []
  },
  {
   "cell_type": "markdown",
   "id": "7c5d1bfe-0be2-461e-8e42-a3450ece275e",
   "metadata": {},
   "source": [
    "## Least squares regression"
   ]
  },
  {
   "cell_type": "code",
   "execution_count": 5,
   "id": "179e0a28-5775-422a-a7f8-9e5e4a4bf4b1",
   "metadata": {
    "tags": []
   },
   "outputs": [],
   "source": [
    "def least_squares(y, tx):\n",
    "    A = tx.T.dot(tx)\n",
    "    b = tx.T.dot(y)\n",
    "    w = np.linalg.solve(A, b)\n",
    "    loss = compute_loss(y,tx,w)\n",
    "    return w, loss"
   ]
  },
  {
   "cell_type": "markdown",
   "id": "0c19133a-eade-4ea7-b685-b32e3ba5b540",
   "metadata": {},
   "source": [
    "## Ridge Regression"
   ]
  },
  {
   "cell_type": "code",
   "execution_count": 6,
   "id": "d48eaa7a-d079-4eba-8941-8c3e51c8b0ea",
   "metadata": {
    "tags": []
   },
   "outputs": [],
   "source": [
    "def ridge_regression(y, tx, lambda_):\n",
    "    \n",
    "    aI = 2 * tx.shape[0] * lambda_ * np.identity(tx.shape[1])\n",
    "    a = tx.T.dot(tx) + aI\n",
    "    b = tx.T.dot(y)\n",
    "    w = np.linalg.solve(a, b)\n",
    "    loss = compute_loss(y,tx,w)\n",
    "    return w, loss"
   ]
  },
  {
   "cell_type": "markdown",
   "id": "c78498f0-8ebb-41e9-9e89-0f70f954f44f",
   "metadata": {},
   "source": [
    "## Regularized Linear Regression"
   ]
  }
 ],
 "metadata": {
  "kernelspec": {
   "display_name": "Python3",
   "language": "python",
   "name": "python3"
  },
  "language_info": {
   "codemirror_mode": {
    "name": "ipython",
    "version": 3
   },
   "file_extension": ".py",
   "mimetype": "text/x-python",
   "name": "python",
   "nbconvert_exporter": "python",
   "pygments_lexer": "ipython3",
   "version": "3.11.5"
  }
 },
 "nbformat": 4,
 "nbformat_minor": 5
}
