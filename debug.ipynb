{
 "cells": [
  {
   "cell_type": "code",
   "execution_count": 1,
   "metadata": {},
   "outputs": [],
   "source": [
    "from helpers import *\n",
    "from implementations import *\n",
    "\n",
    "initial_w = np.array([0.5, 1.0])\n",
    "y = np.array([0.1, 0.3, 0.5])\n",
    "tx = np.array([[2.3, 3.2], [1.0, 0.1], [1.4, 2.3]])\n",
    "MAX_ITERS = 2\n",
    "GAMMA = 0.1\n",
    "RTOL = 1e-4\n",
    "ATOL = 1e-8"
   ]
  },
  {
   "cell_type": "code",
   "execution_count": 2,
   "metadata": {},
   "outputs": [],
   "source": [
    "def check_answers(w, loss, expected_w, expected_loss):\n",
    "    \"\"\"utility function to check the answer\n",
    "    it raises an exception if one on w or loss is not allclose to the expected value\"\"\"\n",
    "    check_w = np.testing.assert_allclose(loss, expected_loss, rtol=RTOL, atol=ATOL)\n",
    "    check_loss = np.testing.assert_allclose(w, expected_w, rtol=RTOL, atol=ATOL)"
   ]
  },
  {
   "cell_type": "markdown",
   "metadata": {},
   "source": [
    "Test mse_gd"
   ]
  },
  {
   "cell_type": "code",
   "execution_count": 3,
   "metadata": {},
   "outputs": [],
   "source": [
    "# with step 0\n",
    "expected_w = np.array([0.413044, 0.875757])\n",
    "expected_loss = 2.959836\n",
    "w, loss = mean_squared_error_gd(y, tx, expected_w, 0, GAMMA)\n",
    "check_answers(w, loss, expected_w, expected_loss)"
   ]
  },
  {
   "cell_type": "code",
   "execution_count": 4,
   "metadata": {},
   "outputs": [],
   "source": [
    "expected_w = np.array([-0.050586, 0.203718])\n",
    "expected_loss = 0.051534\n",
    "\n",
    "w, loss = mean_squared_error_gd(y, tx, initial_w, MAX_ITERS, GAMMA)\n",
    "e = y - tx @ w\n",
    "N = len(y)\n",
    "    # ***************************************************\n",
    "check_answers(w, loss, expected_w, expected_loss)"
   ]
  },
  {
   "cell_type": "markdown",
   "metadata": {},
   "source": [
    "test mse_sgd"
   ]
  },
  {
   "cell_type": "code",
   "execution_count": 5,
   "metadata": {},
   "outputs": [],
   "source": [
    "expected_loss = 0.844595\n",
    "expected_w = np.array([0.063058, 0.39208])\n",
    "w, loss = mean_squared_error_sgd(y[:1], tx[:1], initial_w, MAX_ITERS, GAMMA)\n",
    "check_answers(w, loss, expected_w, expected_loss)"
   ]
  },
  {
   "cell_type": "markdown",
   "metadata": {},
   "source": [
    "test least_squares"
   ]
  },
  {
   "cell_type": "code",
   "execution_count": 6,
   "metadata": {},
   "outputs": [],
   "source": [
    "expected_w = np.array([0.218786, -0.053837])\n",
    "expected_loss = 0.026942\n",
    "w, loss = least_squares(y, tx)\n",
    "check_answers(w, loss, expected_w, expected_loss)"
   ]
  },
  {
   "cell_type": "markdown",
   "metadata": {},
   "source": [
    "test ridge regression"
   ]
  },
  {
   "cell_type": "code",
   "execution_count": 7,
   "metadata": {},
   "outputs": [],
   "source": [
    "# with lambda = 0 (equi to ls)\n",
    "w, loss = ridge_regression(y, tx, 0)\n",
    "expected_loss = 0.026942\n",
    "expected_w = np.array([0.218786, -0.053837])\n",
    "check_answers(w, loss, expected_w, expected_loss)"
   ]
  },
  {
   "cell_type": "code",
   "execution_count": 8,
   "metadata": {},
   "outputs": [],
   "source": [
    "#lambda = 1\n",
    "expected_loss = 0.03175\n",
    "expected_w = np.array([0.054303, 0.042713])\n",
    "w, loss = ridge_regression(y, tx, 1.0)\n",
    "check_answers(w, loss, expected_w, expected_loss)"
   ]
  },
  {
   "cell_type": "markdown",
   "metadata": {},
   "source": [
    "test logistic regression"
   ]
  },
  {
   "cell_type": "code",
   "execution_count": 9,
   "metadata": {},
   "outputs": [],
   "source": [
    "# 0 step\n",
    "expected_w = np.array([0.463156, 0.939874])\n",
    "y_log = (y > 0.2) * 1.0\n",
    "w, loss = logistic_regression(y_log, tx, expected_w, 0, GAMMA)\n",
    "expected_loss = 1.533694\n",
    "check_answers(w, loss, expected_w, expected_loss)"
   ]
  },
  {
   "cell_type": "code",
   "execution_count": 13,
   "metadata": {},
   "outputs": [],
   "source": [
    "expected_loss = 1.348358\n",
    "expected_w = np.array([0.378561, 0.801131])\n",
    "w, loss = logistic_regression(y_log, tx, initial_w, MAX_ITERS, GAMMA)\n",
    "check_answers(w, loss, expected_w, expected_loss)"
   ]
  },
  {
   "cell_type": "markdown",
   "metadata": {},
   "source": [
    "test regularized logistic: the function is not working :("
   ]
  },
  {
   "cell_type": "code",
   "execution_count": 11,
   "metadata": {},
   "outputs": [],
   "source": [
    "lambda_ = 1.0\n",
    "w, loss = reg_logistic_regression(y_log, tx, lambda_, initial_w, MAX_ITERS, GAMMA)\n",
    "expected_loss = 0.972165\n",
    "expected_w = np.array([0.216062, 0.467747])\n",
    "check_answers(w, loss, expected_w, expected_loss)\n"
   ]
  },
  {
   "cell_type": "code",
   "execution_count": 12,
   "metadata": {},
   "outputs": [],
   "source": [
    "# 0 step\n",
    "from helpers import *\n",
    "lambda_ = 1.0\n",
    "expected_w = np.array([0.409111, 0.843996])\n",
    "w, loss = reg_logistic_regression(y_log, tx, lambda_, expected_w, 0, GAMMA)\n",
    "expected_loss = 1.407327\n",
    "check_answers(w, loss, expected_w, expected_loss)"
   ]
  }
 ],
 "metadata": {
  "kernelspec": {
   "display_name": "Python 3",
   "language": "python",
   "name": "python3"
  },
  "language_info": {
   "codemirror_mode": {
    "name": "ipython",
    "version": 3
   },
   "file_extension": ".py",
   "mimetype": "text/x-python",
   "name": "python",
   "nbconvert_exporter": "python",
   "pygments_lexer": "ipython3",
   "version": "3.11.2"
  }
 },
 "nbformat": 4,
 "nbformat_minor": 2
}
