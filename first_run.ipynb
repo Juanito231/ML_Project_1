{
 "cells": [
  {
   "cell_type": "code",
   "execution_count": 134,
   "metadata": {},
   "outputs": [],
   "source": [
    "from helpers_given import *\n",
    "from preprocess import *\n",
    "from helpers import *"
   ]
  },
  {
   "cell_type": "markdown",
   "metadata": {},
   "source": [
    "Load data with helpers_given"
   ]
  },
  {
   "cell_type": "code",
   "execution_count": 88,
   "metadata": {},
   "outputs": [
    {
     "name": "stdout",
     "output_type": "stream",
     "text": [
      "y_train loaded\n",
      "x_train loaded\n",
      "x_test loaded\n"
     ]
    }
   ],
   "source": [
    "x_train, x_test, y_train, train_ids, test_ids = load_csv_data(\"dataset/\", sub_sample=False)"
   ]
  },
  {
   "cell_type": "code",
   "execution_count": 89,
   "metadata": {},
   "outputs": [
    {
     "name": "stdout",
     "output_type": "stream",
     "text": [
      "321\n",
      "328135\n"
     ]
    }
   ],
   "source": [
    "nb_col = x_train.shape[1]\n",
    "nb_rows = x_train.shape[0]\n",
    "print(nb_col)\n",
    "print(nb_rows)"
   ]
  },
  {
   "cell_type": "code",
   "execution_count": 90,
   "metadata": {},
   "outputs": [],
   "source": [
    "y_01 = convert_minus1_to_0(y_train)"
   ]
  },
  {
   "cell_type": "code",
   "execution_count": 91,
   "metadata": {},
   "outputs": [
    {
     "name": "stdout",
     "output_type": "stream",
     "text": [
      "[0. 0. 0. ... 0. 0. 0.]\n",
      "(299160,)\n",
      "(28975,)\n"
     ]
    }
   ],
   "source": [
    "print(y_01)\n",
    "print(y_01[y_01==0].shape)\n",
    "print(y_01[y_01==1].shape)"
   ]
  },
  {
   "cell_type": "code",
   "execution_count": 92,
   "metadata": {},
   "outputs": [],
   "source": [
    "with open('dataset/x_train.csv', 'r') as f:\n",
    "    features_string = f.readline()\n",
    "    features = features_string.split(',')\n",
    "features = features[1:]"
   ]
  },
  {
   "cell_type": "markdown",
   "metadata": {},
   "source": [
    "Preprocessing of run.py"
   ]
  },
  {
   "cell_type": "code",
   "execution_count": 93,
   "metadata": {},
   "outputs": [],
   "source": [
    "nb_nans = np.zeros(nb_col)\n",
    "for i, col in enumerate(x_train.T):\n",
    "    nb_nans[i] = np.count_nonzero(np.isnan(col))"
   ]
  },
  {
   "cell_type": "code",
   "execution_count": 94,
   "metadata": {},
   "outputs": [],
   "source": [
    "#nb_nans = number_of_NaNs(features, x_train)\n",
    "reduced_data, reduced_features, Removed_features = removing_features(nb_nans, features, x_train)\n",
    "#need to apply the same transfo to x_test\n",
    "reduced_test = np.delete(x_test, Removed_features, 1)"
   ]
  },
  {
   "cell_type": "code",
   "execution_count": 95,
   "metadata": {},
   "outputs": [
    {
     "name": "stdout",
     "output_type": "stream",
     "text": [
      " Finished for feature: _STATE\n",
      " Finished for feature: FMONTH\n",
      " Finished for feature: IDATE\n",
      " Finished for feature: IMONTH\n",
      " Finished for feature: IDAY\n",
      " Finished for feature: IYEAR\n",
      " Finished for feature: DISPCODE\n",
      " Finished for feature: SEQNO\n",
      " Finished for feature: _PSU\n",
      " Finished for feature: GENHLTH\n",
      " Finished for feature: PHYSHLTH\n",
      " Finished for feature: MENTHLTH\n",
      " Finished for feature: HLTHPLN1\n",
      " Finished for feature: PERSDOC2\n",
      " Finished for feature: MEDCOST\n",
      " Finished for feature: CHECKUP1\n",
      " Finished for feature: BPHIGH4\n",
      " Finished for feature: BLOODCHO\n",
      " Finished for feature: CVDSTRK3\n",
      " Finished for feature: ASTHMA3\n",
      " Finished for feature: CHCSCNCR\n",
      " Finished for feature: CHCOCNCR\n",
      " Finished for feature: CHCCOPD1\n",
      " Finished for feature: HAVARTH3\n",
      " Finished for feature: ADDEPEV2\n",
      " Finished for feature: CHCKIDNY\n",
      " Finished for feature: DIABETE3\n",
      " Finished for feature: SEX\n",
      " Finished for feature: MARITAL\n",
      " Finished for feature: EDUCA\n",
      " Finished for feature: RENTHOM1\n",
      " Finished for feature: VETERAN3\n",
      " Finished for feature: EMPLOY1\n",
      " Finished for feature: CHILDREN\n",
      " Finished for feature: INCOME2\n",
      " Finished for feature: INTERNET\n",
      " Finished for feature: WEIGHT2\n",
      " Finished for feature: HEIGHT3\n",
      " Finished for feature: QLACTLM2\n",
      " Finished for feature: USEEQUIP\n",
      " Finished for feature: BLIND\n",
      " Finished for feature: DECIDE\n",
      " Finished for feature: DIFFWALK\n",
      " Finished for feature: DIFFDRES\n",
      " Finished for feature: DIFFALON\n",
      " Finished for feature: SMOKE100\n",
      " Finished for feature: USENOW3\n",
      " Finished for feature: ALCDAY5\n",
      " Finished for feature: FRUITJU1\n",
      " Finished for feature: FRUIT1\n",
      " Finished for feature: FVBEANS\n",
      " Finished for feature: FVGREEN\n",
      " Finished for feature: FVORANG\n",
      " Finished for feature: VEGETAB1\n",
      " Finished for feature: EXERANY2\n",
      " Finished for feature: STRENGTH\n",
      " Finished for feature: SEATBELT\n",
      " Finished for feature: FLUSHOT6\n",
      " Finished for feature: PNEUVAC3\n",
      " Finished for feature: HIVTST6\n",
      " Finished for feature: QSTVER\n",
      " Finished for feature: QSTLANG\n",
      " Finished for feature: _STSTR\n",
      " Finished for feature: _STRWT\n",
      " Finished for feature: _RAWRAKE\n",
      " Finished for feature: _WT2RAKE\n",
      " Finished for feature: _DUALUSE\n",
      " Finished for feature: _LLCPWT\n",
      " Finished for feature: _RFHLTH\n",
      " Finished for feature: _HCVU651\n",
      " Finished for feature: _RFHYPE5\n",
      " Finished for feature: _CHOLCHK\n",
      " Finished for feature: _LTASTH1\n",
      " Finished for feature: _CASTHM1\n",
      " Finished for feature: _ASTHMS1\n",
      " Finished for feature: _DRDXAR1\n",
      " Finished for feature: _PRACE1\n",
      " Finished for feature: _MRACE1\n",
      " Finished for feature: _HISPANC\n",
      " Finished for feature: _RACE\n",
      " Finished for feature: _RACEG21\n",
      " Finished for feature: _RACEGR3\n",
      " Finished for feature: _RACE_G1\n",
      " Finished for feature: _AGEG5YR\n",
      " Finished for feature: _AGE65YR\n",
      " Finished for feature: _AGE80\n",
      " Finished for feature: _AGE_G\n",
      " Finished for feature: HTIN4\n",
      " Finished for feature: HTM4\n",
      " Finished for feature: WTKG3\n",
      " Finished for feature: _BMI5\n",
      " Finished for feature: _BMI5CAT\n",
      " Finished for feature: _RFBMI5\n",
      " Finished for feature: _CHLDCNT\n",
      " Finished for feature: _EDUCAG\n",
      " Finished for feature: _INCOMG\n",
      " Finished for feature: _SMOKER3\n",
      " Finished for feature: _RFSMOK3\n",
      " Finished for feature: DRNKANY5\n",
      " Finished for feature: DROCDY3_\n",
      " Finished for feature: _RFBING5\n",
      " Finished for feature: _DRNKWEK\n",
      " Finished for feature: _RFDRHV5\n",
      " Finished for feature: FTJUDA1_\n",
      " Finished for feature: FRUTDA1_\n",
      " Finished for feature: BEANDAY_\n",
      " Finished for feature: GRENDAY_\n",
      " Finished for feature: ORNGDAY_\n",
      " Finished for feature: VEGEDA1_\n",
      " Finished for feature: _MISFRTN\n",
      " Finished for feature: _MISVEGN\n",
      " Finished for feature: _FRTRESP\n",
      " Finished for feature: _VEGRESP\n",
      " Finished for feature: _FRUTSUM\n",
      " Finished for feature: _FRTLT1\n",
      " Finished for feature: _VEGLT1\n",
      " Finished for feature: _FRT16\n",
      " Finished for feature: _VEG23\n",
      " Finished for feature: _FRUITEX\n",
      " Finished for feature: _VEGETEX\n",
      " Finished for feature: _TOTINDA\n",
      " Finished for feature: MAXVO2_\n",
      " Finished for feature: FC60_\n",
      " Finished for feature: STRFREQ_\n",
      " Finished for feature: PAMISS1_\n",
      " Finished for feature: _PACAT1\n",
      " Finished for feature: _PAINDX1\n",
      " Finished for feature: _PA150R2\n",
      " Finished for feature: _PA300R2\n",
      " Finished for feature: _PA30021\n",
      " Finished for feature: _PASTRNG\n",
      " Finished for feature: _PAREC1\n",
      " Finished for feature: _PASTAE1\n",
      " Finished for feature: _LMTACT1\n",
      " Finished for feature: _LMTWRK1\n",
      " Finished for feature: _LMTSCL1\n",
      " Finished for feature: _RFSEAT2\n",
      " Finished for feature: _RFSEAT3\n",
      " Finished for feature: _AIDTST3\n",
      "\n"
     ]
    }
   ],
   "source": [
    "# Get feature correlation dictionary\n",
    "feature_correlation_dict = create_dictionary_from_correlation(reduced_data,reduced_features,0.6)\n",
    "\n",
    "max_corrr_feature_dict = {}\n",
    "\n",
    "# Find the 50 most correlated features\n",
    "for key, val in feature_correlation_dict.items():\n",
    "    max_corrr_feature_dict[key] = len(val)"
   ]
  },
  {
   "cell_type": "code",
   "execution_count": 96,
   "metadata": {},
   "outputs": [],
   "source": [
    "# Sort the dictionary by value in descending order\n",
    "max_corrr_feature_dict = {k: v for k, v in sorted(max_corrr_feature_dict.items(), key=lambda item: item[1], reverse=True)}\n",
    "\n",
    "features_to_drop = []\n",
    "for key in max_corrr_feature_dict.keys():\n",
    "    features_to_drop.append(key)\n",
    "    if len(features_to_drop) == 44:\n",
    "        break\n",
    "\n",
    "# Define features to keep\n",
    "features_to_keep = []\n",
    "for feature in reduced_features:\n",
    "    if feature not in features_to_drop:\n",
    "        features_to_keep.append(feature)\n",
    "\n",
    "# Also replace some features with their calculated counterparts\n",
    "origin_calculated_features = {\n",
    "    'WEIGHT2' : 'WTKG3',\n",
    "    'HEIGHT3' : 'HTM4',\n",
    "    'ALCDAY5' : '_DRNKWEK',\n",
    "    'FRUITJU1' : 'FTJUDA1_',\n",
    "    'FRUIT1' : 'FRUTDA1_',\n",
    "    'FVBEANS' : 'BEANDAY_',\n",
    "    'FVGREEN' : 'GRENDAY_',\n",
    "    'FVORANG' : 'ORNGDAY_',\n",
    "    'VEGETAB1' : 'VEGEDA1_',\n",
    "    'STRENGTH' : 'STRFREQ_'\n",
    "}\n",
    "\n",
    "# In features_to_keep replace the key of origin_calculated_features with the value\n",
    "for key, val in origin_calculated_features.items():\n",
    "    for i, feature in enumerate(features_to_keep):\n",
    "        if key == feature:\n",
    "            features_to_keep[i] = val\n",
    "\n",
    "# Drop duplicates\n",
    "features_to_keep = list(set(features_to_keep))\n",
    "\n",
    "# Get the indices of the selected features\n",
    "selected_features_indices = []\n",
    "for feature in features_to_keep:\n",
    "    selected_features_indices.append(reduced_features.index(feature))\n",
    "\n",
    "selected_features_indices = sorted(selected_features_indices)\n",
    "\n",
    "# Create a new dataset with keeping the features that are in the selected_features_indices\n",
    "reduced_data = reduced_data[:,selected_features_indices]\n",
    "reduced_test = reduced_test[:,selected_features_indices]\n",
    "\n",
    "# Also remove the features from the reduced_features list\n",
    "reduced_features_2 = []\n",
    "for feature in reduced_features:\n",
    "    if feature in features_to_keep:\n",
    "        reduced_features_2.append(feature)\n",
    "\n",
    "# Remove redundant features\n",
    "redundant_features = [ 'FMONTH','IDATE','IMONTH','IDAY','IYEAR', 'SEQNO', '_STATE', '_PSU', ]\n",
    "# Get the indices of these features\n",
    "redundant_features_indices = []\n",
    "for feature in redundant_features:\n",
    "    redundant_features_indices.append(reduced_features_2.index(feature))\n",
    "\n",
    "# Create a new dataset with removing the features that are in the selected_features_indices\n",
    "reduced_data = np.delete(reduced_data, redundant_features_indices, 1)\n",
    "reduced_features_2 = [reduced_features_2[i] for i in range(len(reduced_features_2)) if i not in redundant_features_indices]\n",
    "reduced_test = np.delete(reduced_test, redundant_features_indices, 1)\n",
    "\n",
    "# Replace nine values with NaNs\n",
    "replace_nine_with_nan(reduced_data)\n",
    "replace_nine_with_nan(reduced_test)\n",
    "\n",
    "# Replace seven values with NaNs\n",
    "replace_seven_with_nan(reduced_data)\n",
    "replace_seven_with_nan(reduced_test)\n",
    "\n",
    "# Replace 99 values with NaNs\n",
    "replace_99_with_nan(reduced_data)\n",
    "replace_99_with_nan(reduced_test)\n",
    "\n",
    "# For the _DRNKWEK feature, replace 9990 with NaN\n",
    "for i in range(reduced_data.shape[0]):\n",
    "    if reduced_data[i, reduced_features_2.index('_DRNKWEK')] == 9990:\n",
    "        reduced_data[i, reduced_features_2.index('_DRNKWEK')] = np.nan\n",
    "for i in range(reduced_test.shape[0]):\n",
    "    if reduced_test[i, reduced_features_2.index('_DRNKWEK')] == 9990:\n",
    "        reduced_test[i, reduced_features_2.index('_DRNKWEK')] = np.nan\n",
    "\n"
   ]
  },
  {
   "cell_type": "code",
   "execution_count": 97,
   "metadata": {},
   "outputs": [],
   "source": [
    "# Remove outliers\n",
    "reduced_data = clean_outliers_modified(reduced_data)\n",
    "reduced_test = clean_outliers_modified(reduced_test)\n",
    "\n",
    "# Replace NaNs with medians\n",
    "reduced_mean = replace_NaN(reduced_data, method='mean')\n",
    "reduced_mean_test = replace_NaN(reduced_test, method='mean')\n",
    "\n",
    "# Standardize the data\n",
    "standardized_x = standardize_data(reduced_mean)\n",
    "standardized_test = standardize_data(reduced_mean_test)"
   ]
  },
  {
   "cell_type": "code",
   "execution_count": 98,
   "metadata": {},
   "outputs": [],
   "source": [
    "# Replace NaNs with medians\n",
    "reduced_median = replace_NaN(reduced_data, method='median')\n",
    "reduced_median_test = replace_NaN(reduced_test, method='median')\n",
    "\n",
    "#Remove feautures with index\n",
    "indeces_to_remove = [61,62,77, 81, 82]\n",
    "reduced_median = np.delete(reduced_median, indeces_to_remove, 1)\n",
    "reduced_x_test = np.delete(reduced_median_test, indeces_to_remove, 1)\n",
    "\n",
    "# Standardize the data\n",
    "std_x_med = standardize_data(reduced_median)\n",
    "std_test_med = standardize_data(reduced_median_test)"
   ]
  },
  {
   "cell_type": "markdown",
   "metadata": {},
   "source": [
    "#### Run the methods"
   ]
  },
  {
   "cell_type": "code",
   "execution_count": 99,
   "metadata": {},
   "outputs": [],
   "source": [
    "from implementations import *\n",
    "NB_COL = standardized_x.shape[1] # corresponds to 'D' = number of features\n",
    "NB_ROWS = standardized_x.shape[0] # corresponds to 'N' = number of observations/respondents"
   ]
  },
  {
   "cell_type": "code",
   "execution_count": 100,
   "metadata": {},
   "outputs": [
    {
     "name": "stdout",
     "output_type": "stream",
     "text": [
      "92\n",
      "328135\n"
     ]
    }
   ],
   "source": [
    "print(NB_COL)\n",
    "print(NB_ROWS)"
   ]
  },
  {
   "cell_type": "code",
   "execution_count": 135,
   "metadata": {},
   "outputs": [],
   "source": [
    "from cross_validation import *"
   ]
  },
  {
   "cell_type": "code",
   "execution_count": 169,
   "metadata": {},
   "outputs": [
    {
     "name": "stdout",
     "output_type": "stream",
     "text": [
      " Finished for degree: 1\n"
     ]
    }
   ],
   "source": [
    "# CV on two hyperparams degree and lambda on regularized logistic regression adding polynomial functi\n",
    "seed = 12\n",
    "degrees = [1]\n",
    "k_fold = 4\n",
    "lambdas = np.arange(0.0,0.5,0.01)\n",
    "gamma = 0.5\n",
    "max_iters = 50\n",
    "initial_w = np.zeros(NB_COL)\n",
    "k_indices = build_k_indices(y_01, k_fold, seed)\n",
    "#for each degree, we compute the best lambdas and the associated rmse\n",
    "best_lambdas = []\n",
    "best_F1s = []\n",
    "best_F1s_tr = []\n",
    "best_lambdas_tr = []\n",
    "#vary degree\n",
    "for degree in degrees:\n",
    "    # cross validation\n",
    "    F1_te = []\n",
    "    F1_tr = []\n",
    "    for lambda_ in lambdas:\n",
    "        F1_te_tmp = []\n",
    "        F1_tr_tmp = []\n",
    "        for k in range(k_fold):\n",
    "            F1_training, F1_test = cross_validation(y_01, std_x_med,initial_w, max_iters, gamma, k_indices, k, lambda_, degree)\n",
    "            F1_te_tmp.append(F1_test)\n",
    "            F1_tr_tmp.append(F1_training)\n",
    "        F1_te.append(np.mean(F1_te_tmp))\n",
    "        F1_tr.append(np.mean(F1_tr_tmp))\n",
    "    print(f\" Finished for degree: {degree}\")\n",
    "    ind_lambda_opt = np.argmax(F1_te)\n",
    "    ind_lambda_opt_tr = np.argmax(F1_tr)\n",
    "    best_lambdas.append(lambdas[ind_lambda_opt])\n",
    "    best_lambdas_tr.append(lambdas[ind_lambda_opt_tr])\n",
    "    best_F1s.append(F1_te[ind_lambda_opt])\n",
    "    best_F1s_tr.append(F1_tr[ind_lambda_opt_tr])\n",
    "ind_best =  np.nanargmax(best_F1s)      \n",
    "best_degree = degrees[ind_best]\n",
    "best_lambda = best_lambdas[ind_best]\n",
    "best_F1 = best_F1s[ind_best]"
   ]
  },
  {
   "cell_type": "code",
   "execution_count": 170,
   "metadata": {},
   "outputs": [
    {
     "name": "stdout",
     "output_type": "stream",
     "text": [
      "1\n",
      "0.44\n",
      "0.38531118488119337\n"
     ]
    }
   ],
   "source": [
    "print(best_degree)\n",
    "print(best_lambda)\n",
    "print(best_F1)"
   ]
  },
  {
   "cell_type": "markdown",
   "metadata": {},
   "source": [
    "### Plotting evolution of training and test F1-score as a function of lambda or degree"
   ]
  },
  {
   "cell_type": "code",
   "execution_count": 173,
   "metadata": {},
   "outputs": [
    {
     "data": {
      "image/png": "[encoded data removed]",
      "text/plain": [
       "<Figure size 640x480 with 1 Axes>"
      ]
     },
     "metadata": {},
     "output_type": "display_data"
    }
   ],
   "source": [
    "plt.plot(lambdas,F1_te)\n",
    "plt.xlabel(\"lambda\")\n",
    "plt.ylabel(\"F1-score\")\n",
    "plt.title(\"Evolution of F1-score as a function of lambda\")\n",
    "plt.grid(True)\n",
    "plt.savefig(\"F1-score_lambda\")"
   ]
  },
  {
   "cell_type": "markdown",
   "metadata": {},
   "source": [
    "### Run regularized logistic regression with best param"
   ]
  },
  {
   "cell_type": "code",
   "execution_count": 175,
   "metadata": {},
   "outputs": [],
   "source": [
    "tx = build_poly(std_x_med, best_degree)"
   ]
  },
  {
   "cell_type": "code",
   "execution_count": 176,
   "metadata": {},
   "outputs": [],
   "source": [
    "size_w = tx.shape[1]"
   ]
  },
  {
   "cell_type": "code",
   "execution_count": 177,
   "metadata": {},
   "outputs": [
    {
     "name": "stdout",
     "output_type": "stream",
     "text": [
      "0.5381353710565024\n",
      "[-1. -1. -1. ... -1. -1. -1.]\n",
      "0.869876727566398\n"
     ]
    }
   ],
   "source": [
    "w_reg, loss_reg = reg_logistic_regression(y_01, tx, initial_w = np.zeros(size_w), max_iters = 50, gamma = 0.5, lambda_ = best_lambda)\n",
    "print(loss_reg)\n",
    "y_reg = convert_0_to_minus1(convert_predict(tx @ w_reg))\n",
    "print(y_reg)\n",
    "# accuracy\n",
    "p_reg = compute_accuracy(y_train, y_reg) #percentage of false predictions\n",
    "print(p_reg)"
   ]
  },
  {
   "cell_type": "code",
   "execution_count": 178,
   "metadata": {},
   "outputs": [],
   "source": [
    "tx_test = build_poly(std_test_med, best_degree)\n",
    "y_pred = convert_0_to_minus1(convert_predict(tx_test @ w_reg))"
   ]
  },
  {
   "cell_type": "code",
   "execution_count": 179,
   "metadata": {},
   "outputs": [],
   "source": [
    "create_csv_submission(test_ids, y_pred, \"new_result\")"
   ]
  },
  {
   "cell_type": "markdown",
   "metadata": {},
   "source": [
    "### F1-score of all methods without hyperparameter finetuning"
   ]
  },
  {
   "cell_type": "code",
   "execution_count": 190,
   "metadata": {},
   "outputs": [
    {
     "name": "stdout",
     "output_type": "stream",
     "text": [
      "The F1-score is: 0.295541577862106\n"
     ]
    }
   ],
   "source": [
    "# GD\n",
    "w_mse_gd, loss_mse_gd = mean_squared_error_gd(y_01, std_x_med, initial_w = np.zeros(NB_COL), max_iters = 50, gamma = 0.001)\n",
    "y_mse_gd = convert_predict(std_x_med @ w_mse_gd)\n",
    "print(f\"The F1-score is: {compute_f1(y_01,y_mse_gd)}\")"
   ]
  },
  {
   "cell_type": "code",
   "execution_count": 194,
   "metadata": {},
   "outputs": [
    {
     "name": "stdout",
     "output_type": "stream",
     "text": [
      "The F1-score is: 0.1915857944709647\n"
     ]
    }
   ],
   "source": [
    "# SGD\n",
    "w_mse_sgd, loss_mse_sgd = mean_squared_error_sgd(y_01, std_x_med, initial_w = np.zeros(NB_COL), max_iters = 50, gamma = 0.001)\n",
    "y_mse_sgd = convert_predict(std_x_med @ w_mse_sgd)\n",
    "print(f\"The F1-score is: {compute_f1(y_01,y_mse_sgd)}\")"
   ]
  },
  {
   "cell_type": "code",
   "execution_count": 184,
   "metadata": {},
   "outputs": [
    {
     "name": "stdout",
     "output_type": "stream",
     "text": [
      "The F1-score is: 0.32027667187421255\n"
     ]
    }
   ],
   "source": [
    "# Least squares\n",
    "w_ls, loss_ls = least_squares(y_01, std_x_med)\n",
    "y_ls = convert_predict(std_x_med @ w_ls)\n",
    "print(f\"The F1-score is: {compute_f1(y_01,y_ls)}\")"
   ]
  },
  {
   "cell_type": "code",
   "execution_count": 185,
   "metadata": {},
   "outputs": [
    {
     "name": "stdout",
     "output_type": "stream",
     "text": [
      "The F1-score is: 0.30788073367222574\n"
     ]
    }
   ],
   "source": [
    "# Ridge regression\n",
    "w_rr, loss_rr = ridge_regression(y_01, std_x_med, lambda_ = 0.5)\n",
    "y_rr = convert_predict(std_x_med @ w_rr)\n",
    "print(f\"The F1-score is: {compute_f1(y_01,y_rr)}\")"
   ]
  },
  {
   "cell_type": "code",
   "execution_count": 191,
   "metadata": {},
   "outputs": [
    {
     "name": "stdout",
     "output_type": "stream",
     "text": [
      "The F1-score is: 0.2943724944256386\n"
     ]
    }
   ],
   "source": [
    "# logistic regression (GD)\n",
    "w_lrgd, loss_lrgd = logistic_regression(y_01, std_x_med, initial_w = np.zeros(NB_COL), max_iters = 50, gamma = 0.001)\n",
    "y_lrgd = convert_predict(std_x_med @ w_lrgd)\n",
    "print(f\"The F1-score is: {compute_f1(y_01,y_lrgd)}\")\n",
    "#log sgd\n",
    "#w_lrsgd, loss_lrsgd = logistic_regression_SGD(y_train, x_train, initial_w = np.zeros(NB_COL), max_iters = 50, gamma = 0.1, lambda_ = 0.5)"
   ]
  },
  {
   "cell_type": "code",
   "execution_count": 193,
   "metadata": {},
   "outputs": [
    {
     "name": "stdout",
     "output_type": "stream",
     "text": [
      "The F1-score is: 0.2943724944256386\n"
     ]
    }
   ],
   "source": [
    "w_reg, loss_reg = reg_logistic_regression(y_01, std_x_med, initial_w = np.zeros(NB_COL), max_iters = 50, gamma = 0.001, lambda_ = 0.5)\n",
    "y_reg = convert_predict(std_x_med @ w_reg)\n",
    "print(f\"The F1-score is: {compute_f1(y_01,y_reg)}\")\n",
    "# reg log sgd\n",
    "#w_reg_lrsgd, loss_reg_lrsgd = reg_logistic_regression_SGD(y_train, x_train, initial_w = np.zeros(NB_COL), max_iters = 50, gamma = 0.1, lambda_ = 0.5)"
   ]
  },
  {
   "cell_type": "markdown",
   "metadata": {},
   "source": [
    "### Create a csv file with a prediction"
   ]
  },
  {
   "cell_type": "code",
   "execution_count": null,
   "metadata": {},
   "outputs": [],
   "source": [
    "# predict y with x_test using regularized log\n",
    "y_pred = convert_0_to_minus1(convert_predict(standardized_test @ w_reg))\n",
    "print(y_pred)"
   ]
  },
  {
   "cell_type": "code",
   "execution_count": null,
   "metadata": {},
   "outputs": [],
   "source": [
    "create_csv_submission(test_ids, y_pred, \"submission\")"
   ]
  },
  {
   "cell_type": "markdown",
   "metadata": {},
   "source": [
    "### OLD VERSION:"
   ]
  },
  {
   "cell_type": "markdown",
   "metadata": {},
   "source": [
    "Take care of the NaNs"
   ]
  },
  {
   "cell_type": "code",
   "execution_count": null,
   "metadata": {},
   "outputs": [],
   "source": [
    "nb_nans = np.zeros(nb_col)\n",
    "for i, col in enumerate(x_train.T):\n",
    "    nb_nans[i] = np.count_nonzero(np.isnan(col))\n",
    "plt.figure(figsize=(10, 5))\n",
    "plt.hist(nb_nans, bins=20)\n",
    "plt.title(\"Number of NaNs per feature before\")\n"
   ]
  },
  {
   "cell_type": "code",
   "execution_count": null,
   "metadata": {},
   "outputs": [],
   "source": [
    "reduced_x_train, reduced_ids = removing_features(nb_nans, train_ids, x_train)\n",
    "\n",
    "for i, col in enumerate(reduced_x_train.T):\n",
    "    nb_nans[i] = np.count_nonzero(np.isnan(col))\n",
    "plt.figure(figsize=(10, 5))\n",
    "plt.hist(nb_nans, bins=20)\n",
    "plt.title(\"Number of NaNs per feature after\")"
   ]
  },
  {
   "cell_type": "markdown",
   "metadata": {},
   "source": [
    "Standardize and remove nans"
   ]
  },
  {
   "cell_type": "code",
   "execution_count": null,
   "metadata": {},
   "outputs": [],
   "source": [
    "# remove the columns that have the same value in it (avoid std=0)\n",
    "reduced_x_train, reduced_ids = remove_identic_col(reduced_ids, reduced_x_train)\n",
    "nb_col_reduced = reduced_x_train.shape[1]\n",
    "print(nb_col_reduced)"
   ]
  },
  {
   "cell_type": "code",
   "execution_count": null,
   "metadata": {},
   "outputs": [],
   "source": [
    "x_standardized = standardize_data(reduced_x_train)\n",
    "\n",
    "clean_x_train = replace_NaN(x_standardized, method = 'mean')"
   ]
  },
  {
   "cell_type": "markdown",
   "metadata": {},
   "source": [
    "## Run the methods a first time to see how we're doing"
   ]
  },
  {
   "cell_type": "code",
   "execution_count": null,
   "metadata": {},
   "outputs": [],
   "source": [
    "from implementations import *\n",
    "NB_COL = clean_x_train.shape[1] # corresponds to 'D' = number of features\n",
    "NB_ROWS = clean_x_train.shape[0] # corresponds to 'N' = number of observations/respondents"
   ]
  },
  {
   "cell_type": "markdown",
   "metadata": {},
   "source": [
    "### Gradient descent"
   ]
  },
  {
   "cell_type": "code",
   "execution_count": null,
   "metadata": {},
   "outputs": [],
   "source": [
    "w_mse_gd, loss_mse_gd = mean_squared_error_gd(y_train, clean_x_train, initial_w = np.zeros(NB_COL), max_iters = 50, gamma = 0.001)\n",
    "print(loss_mse_gd)\n",
    "y_mse_gd = clean_x_train @ w_mse_gd\n",
    "y_mse_gd = convert_predict(y_mse_gd)\n",
    "print(y_mse_gd)"
   ]
  },
  {
   "cell_type": "code",
   "execution_count": null,
   "metadata": {},
   "outputs": [],
   "source": [
    "print(y_train)"
   ]
  },
  {
   "cell_type": "markdown",
   "metadata": {},
   "source": [
    "### Subgradient descent"
   ]
  },
  {
   "cell_type": "code",
   "execution_count": null,
   "metadata": {},
   "outputs": [],
   "source": [
    "w_mse_sgd, loss_mse_sgd = mean_squared_error_sgd(y_train, clean_x_train, initial_w = np.zeros(NB_COL), max_iters = 50, gamma = 0.001)\n",
    "print(loss_mse_gd)\n",
    "y_mse_gd = clean_x_train @ w_mse_gd\n",
    "y_mse_gd = convert_predict(y_mse_gd)\n",
    "print(y_mse_gd)"
   ]
  },
  {
   "cell_type": "code",
   "execution_count": null,
   "metadata": {},
   "outputs": [],
   "source": [
    "w_ls, loss_ls = least_squares(y_train, x_train)\n",
    "w_rr, loss_rr = ridge_regression(y_train, x_train, lambda_ = 0.5)\n",
    "w_lrgd, loss_lrgd = logistic_regression(y_train, x_train, initial_w = np.zeros(NB_COL), max_iters = 50, gamma = 0.1, lambda_ = 0.5)\n",
    "w_lrsgd, loss_lrsgd = logistic_regression_SGD(y_train, x_train, initial_w = np.zeros(NB_COL), max_iters = 50, gamma = 0.1, lambda_ = 0.5)\n",
    "w_reg_lrgd, loss_reg_lrgd = reg_logistic_regression(y_train, x_train, initial_w = np.zeros(NB_COL), max_iters = 50, gamma = 0.1, lambda_ = 0.5)\n",
    "w_reg_lrsgd, loss_reg_lrsgd = reg_logistic_regression_SGD(y_train, x_train, initial_w = np.zeros(NB_COL), max_iters = 50, gamma = 0.1, lambda_ = 0.5)"
   ]
  },
  {
   "cell_type": "code",
   "execution_count": null,
   "metadata": {},
   "outputs": [],
   "source": []
  },
  {
   "cell_type": "markdown",
   "metadata": {},
   "source": [
    "Idea to remove columns: compare means in population y=0 and y=1, and remove col for which those means are close\n",
    "(this is done already a little with remove_identic_col for the columns that have the same value in each cell)"
   ]
  },
  {
   "cell_type": "markdown",
   "metadata": {},
   "source": [
    "Cleaning outliers"
   ]
  },
  {
   "cell_type": "code",
   "execution_count": null,
   "metadata": {},
   "outputs": [],
   "source": [
    "removed_outlier_x_train = clean_outliers(reduced_x_train)"
   ]
  },
  {
   "cell_type": "code",
   "execution_count": null,
   "metadata": {},
   "outputs": [],
   "source": [
    "features_below_10_unique_values = {}\n",
    "for i in range(reduced_x_train.shape[1]):\n",
    "    # print(f\"{reduced_features[i]}: {len(np.unique(reduced_data[:,i]))}\")\n",
    "    #print(f\"{reduced_features[i]}: {np.unique(reduced_x_train[:,i])}\")\n",
    "    if len(np.unique(reduced_x_train[:,i])) < 10:\n",
    "        features_below_10_unique_values[reduced_features[i]] = len(np.unique(reduced_x_train[:,i]))\n",
    "\n",
    "# dealing with correlation \n",
    "\n",
    "def create_dictionary_from_correlation(correlation_threshold):\n",
    "    newfeature_correlation_dict = {}\n",
    "    # For each feature in the dataset calculate the correlation with the others and save those which have higher than 0.6 correlation\n",
    "    for ft_num, feature in enumerate(reduced_features):\n",
    "        newfeature_correlation_dict[feature] = []\n",
    "        for o_ft_num, other_feature in enumerate(reduced_features):\n",
    "            if (feature != other_feature):\n",
    "                if np.abs(np.corrcoef(reduced_x_train[:,ft_num],reduced_x_train[:,o_ft_num])[0,1]) >= correlation_threshold:\n",
    "                    newfeature_correlation_dict[feature].append(other_feature)\n",
    "        print(f\" Finished for feature: {feature}\")\n",
    "    return newfeature_correlation_dict\n",
    "\n",
    "feature_correlation_dict = create_dictionary_from_correlation(0.6)\n",
    "with open('feature_correlation_dict.pickle', 'wb') as handle:\n",
    "    pickle.dump(feature_correlation_dict, handle, protocol=pickle.HIGHEST_PROTOCOL)\n",
    "with open('feature_correlation_dict.pickle', 'rb') as handle:\n",
    "    feature_correlation_dict = pickle.load(handle)"
   ]
  },
  {
   "cell_type": "markdown",
   "metadata": {},
   "source": [
    "### Run the functions on the data"
   ]
  },
  {
   "cell_type": "code",
   "execution_count": null,
   "metadata": {},
   "outputs": [],
   "source": [
    "from implementations import *\n",
    "w_mse_gd, loss_mse_gd = mean_squared_error_gd(y_train, x_train, initial_w = np.array([0,0]), max_iters = 50, gamma = 0.1)\n",
    "w_mse_sgd, loss_mse_sgd = mean_squared_error_sgd(y_train, x_train, initial_w = np.array([0,0]), max_iters = 50, gamma = 0.1)\n",
    "w_ls, loss_ls = least_squares(y_train, x_train)\n",
    "w_rr, loss_rr = ridge_regression(y_train, x_train, lambda_ = 0.5)\n",
    "w_lrgd, loss_lrgd = logistic_regression_GD(y_train, x_train, initial_w = np.array([0,0]), max_iters = 50, gamma = 0.1, lambda_ = 0.5)\n",
    "w_lrsgd, loss_lrsgd = logistic_regression_SGD(y_train, x_train, initial_w = np.array([0,0]), max_iters = 50, gamma = 0.1, lambda_ = 0.5)\n",
    "w_reg_lrgd, loss_reg_lrgd = regularized_logistic_regression_GD(y_train, x_train, initial_w = np.array([0,0]), max_iters = 50, gamma = 0.1, lambda_ = 0.5)\n",
    "w_reg_lrsgd, loss_reg_lrsgd = regularized_logistic_regression_SGD(y_train, x_train, initial_w = np.array([0,0]), max_iters = 50, gamma = 0.1, lambda_ = 0.5)"
   ]
  }
 ],
 "metadata": {
  "kernelspec": {
   "display_name": "Python 3 (ipykernel)",
   "language": "python",
   "name": "python3"
  },
  "language_info": {
   "codemirror_mode": {
    "name": "ipython",
    "version": 3
   },
   "file_extension": ".py",
   "mimetype": "text/x-python",
   "name": "python",
   "nbconvert_exporter": "python",
   "pygments_lexer": "ipython3",
   "version": "3.9.13"
  }
 },
 "nbformat": 4,
 "nbformat_minor": 2
}
