{
 "cells": [
  {
   "cell_type": "code",
   "execution_count": 1,
   "metadata": {},
   "outputs": [],
   "source": [
    "from helpers_given import load_csv_data\n",
    "from preprocess import *\n",
    "from helpers import *"
   ]
  },
  {
   "cell_type": "markdown",
   "metadata": {},
   "source": [
    "Load data with helpers_given"
   ]
  },
  {
   "cell_type": "code",
   "execution_count": 2,
   "metadata": {},
   "outputs": [
    {
     "name": "stdout",
     "output_type": "stream",
     "text": [
      "y_train loaded\n"
     ]
    },
    {
     "name": "stderr",
     "output_type": "stream",
     "text": [
      "\n",
      "KeyboardInterrupt\n",
      "\n"
     ]
    }
   ],
   "source": [
    "x_train, x_test, y_train, train_ids, test_ids = load_csv_data(\"dataset/dataset_to_release\", sub_sample=False)"
   ]
  },
  {
   "cell_type": "code",
   "execution_count": null,
   "metadata": {},
   "outputs": [],
   "source": [
    "nb_col = x_train.shape[1]\n",
    "nb_rows = x_train.shape[0]\n",
    "print(nb_col)\n",
    "print(nb_rows)"
   ]
  },
  {
   "cell_type": "markdown",
   "metadata": {},
   "source": [
    "first try with raw data"
   ]
  },
  {
   "cell_type": "code",
   "execution_count": null,
   "metadata": {},
   "outputs": [],
   "source": [
    "new_x_train = x_train\n",
    "for i in range(nb_col):\n",
    "    mean = np.nanmean(x_train[:, i])\n",
    "    for j in range(nb_rows):\n",
    "        if np.isnan(x_train[j,i]):\n",
    "            new_x_train[j,i]= mean"
   ]
  },
  {
   "cell_type": "code",
   "execution_count": null,
   "metadata": {},
   "outputs": [],
   "source": [
    "from implementations import *\n",
    "w_mse_gd, loss_mse_gd = mean_squared_error_gd(y_train, new_x_train, initial_w = np.zeros(nb_col), max_iters = 50, gamma = 0.001)"
   ]
  },
  {
   "cell_type": "markdown",
   "metadata": {},
   "source": [
    "Take care of the NaNs"
   ]
  },
  {
   "cell_type": "code",
   "execution_count": null,
   "metadata": {},
   "outputs": [],
   "source": [
    "nb_nans = np.zeros(nb_col)\n",
    "for i, col in enumerate(x_train.T):\n",
    "    nb_nans[i] = np.count_nonzero(np.isnan(col))\n",
    "plt.figure(figsize=(10, 5))\n",
    "plt.hist(nb_nans, bins=20)\n",
    "plt.title(\"Number of NaNs per feature before\")\n"
   ]
  },
  {
   "cell_type": "code",
   "execution_count": null,
   "metadata": {},
   "outputs": [],
   "source": [
    "reduced_x_train, reduced_ids = removing_features(nb_nans, train_ids, x_train)\n",
    "\n",
    "for i, col in enumerate(reduced_x_train.T):\n",
    "    nb_nans[i] = np.count_nonzero(np.isnan(col))\n",
    "plt.figure(figsize=(10, 5))\n",
    "plt.hist(nb_nans, bins=20)\n",
    "plt.title(\"Number of NaNs per feature after\")"
   ]
  },
  {
   "cell_type": "markdown",
   "metadata": {},
   "source": [
    "Standardize and remove nans"
   ]
  },
  {
   "cell_type": "code",
   "execution_count": null,
   "metadata": {},
   "outputs": [],
   "source": [
    "# remove the columns that have the same value in it (avoid std=0)\n",
    "reduced_x_train, reduced_ids = remove_identic_col(reduced_ids, reduced_x_train)\n",
    "nb_col_reduced = reduced_x_train.shape[1]\n",
    "print(nb_col_reduced)"
   ]
  },
  {
   "cell_type": "code",
   "execution_count": null,
   "metadata": {},
   "outputs": [],
   "source": [
    "x_standardized = standardize_data(reduced_x_train)\n",
    "\n",
    "clean_x_train = replace_NaN(x_standardized, method = 'mean')"
   ]
  },
  {
   "cell_type": "markdown",
   "metadata": {},
   "source": [
    "## Run the methods a first time to see how we're doing"
   ]
  },
  {
   "cell_type": "code",
   "execution_count": null,
   "metadata": {},
   "outputs": [],
   "source": [
    "from implementations import *\n",
    "NB_COL = clean_x_train.shape[1] # corresponds to 'D' = number of features\n",
    "NB_ROWS = clean_x_train.shape[0] # corresponds to 'N' = number of observations/respondents"
   ]
  },
  {
   "cell_type": "markdown",
   "metadata": {},
   "source": [
    "### Gradient descent"
   ]
  },
  {
   "cell_type": "code",
   "execution_count": null,
   "metadata": {},
   "outputs": [],
   "source": [
    "w_mse_gd, loss_mse_gd = mean_squared_error_gd(y_train, clean_x_train, initial_w = np.zeros(NB_COL), max_iters = 50, gamma = 0.001)"
   ]
  },
  {
   "cell_type": "code",
   "execution_count": null,
   "metadata": {},
   "outputs": [],
   "source": [
    "print(loss_mse_gd)\n",
    "y_mse_gd = clean_x_train @ w_mse_gd\n",
    "y_mse_gd = convert_predict(y_mse_gd)\n",
    "print(y_mse_gd)"
   ]
  },
  {
   "cell_type": "markdown",
   "metadata": {},
   "source": [
    "on raw data:"
   ]
  },
  {
   "cell_type": "code",
   "execution_count": null,
   "metadata": {},
   "outputs": [],
   "source": [
    "w_raw, loss_raw = mean_squared_error_gd(y_train, x_train, initial_w = np.zeros(nb_col), max_iters = 50, gamma = 0.001)"
   ]
  },
  {
   "cell_type": "markdown",
   "metadata": {},
   "source": [
    "### Subgradient descent"
   ]
  },
  {
   "cell_type": "code",
   "execution_count": null,
   "metadata": {},
   "outputs": [],
   "source": [
    "w_mse_sgd, loss_mse_sgd = mean_squared_error_sgd(y_train, clean_x_train, initial_w = np.zeros(NB_COL), max_iters = 50, gamma = 0.001)\n",
    "print(loss_mse_gd)\n",
    "y_mse_gd = clean_x_train @ w_mse_gd\n",
    "y_mse_gd = convert_predict(y_mse_gd)\n",
    "print(y_mse_gd)"
   ]
  },
  {
   "cell_type": "code",
   "execution_count": null,
   "metadata": {},
   "outputs": [],
   "source": [
    "w_ls, loss_ls = least_squares(y_train, x_train)\n",
    "w_rr, loss_rr = ridge_regression(y_train, x_train, lambda_ = 0.5)\n",
    "w_lrgd, loss_lrgd = logistic_regression_GD(y_train, x_train, initial_w = np.zeros(NB_COL), max_iters = 50, gamma = 0.1, lambda_ = 0.5)\n",
    "w_lrsgd, loss_lrsgd = logistic_regression_SGD(y_train, x_train, initial_w = np.zeros(NB_COL), max_iters = 50, gamma = 0.1, lambda_ = 0.5)\n",
    "w_reg_lrgd, loss_reg_lrgd = regularized_logistic_regression_GD(y_train, x_train, initial_w = np.zeros(NB_COL), max_iters = 50, gamma = 0.1, lambda_ = 0.5)\n",
    "w_reg_lrsgd, loss_reg_lrsgd = regularized_logistic_regression_SGD(y_train, x_train, initial_w = np.zeros(NB_COL), max_iters = 50, gamma = 0.1, lambda_ = 0.5)"
   ]
  },
  {
   "cell_type": "markdown",
   "metadata": {},
   "source": [
    "Idea to remove columns: compare means in population y=0 and y=1, and remove col for which those means are close\n",
    "(this is done already a little with remove_identic_col for the columns that have the same value in each cell)"
   ]
  },
  {
   "cell_type": "markdown",
   "metadata": {},
   "source": [
    "Cleaning outliers"
   ]
  },
  {
   "cell_type": "code",
   "execution_count": null,
   "metadata": {},
   "outputs": [],
   "source": [
    "removed_outlier_x_train = clean_outliers(reduced_x_train)"
   ]
  },
  {
   "cell_type": "code",
   "execution_count": null,
   "metadata": {},
   "outputs": [],
   "source": [
    "features_below_10_unique_values = {}\n",
    "for i in range(reduced_x_train.shape[1]):\n",
    "    # print(f\"{reduced_features[i]}: {len(np.unique(reduced_data[:,i]))}\")\n",
    "    #print(f\"{reduced_features[i]}: {np.unique(reduced_x_train[:,i])}\")\n",
    "    if len(np.unique(reduced_x_train[:,i])) < 10:\n",
    "        features_below_10_unique_values[reduced_features[i]] = len(np.unique(reduced_x_train[:,i]))\n",
    "\n",
    "# dealing with correlation \n",
    "\n",
    "def create_dictionary_from_correlation(correlation_threshold):\n",
    "    newfeature_correlation_dict = {}\n",
    "    # For each feature in the dataset calculate the correlation with the others and save those which have higher than 0.6 correlation\n",
    "    for ft_num, feature in enumerate(reduced_features):\n",
    "        newfeature_correlation_dict[feature] = []\n",
    "        for o_ft_num, other_feature in enumerate(reduced_features):\n",
    "            if (feature != other_feature):\n",
    "                if np.abs(np.corrcoef(reduced_x_train[:,ft_num],reduced_x_train[:,o_ft_num])[0,1]) >= correlation_threshold:\n",
    "                    newfeature_correlation_dict[feature].append(other_feature)\n",
    "        print(f\" Finished for feature: {feature}\")\n",
    "    return newfeature_correlation_dict\n",
    "\n",
    "feature_correlation_dict = create_dictionary_from_correlation(0.6)\n",
    "with open('feature_correlation_dict.pickle', 'wb') as handle:\n",
    "    pickle.dump(feature_correlation_dict, handle, protocol=pickle.HIGHEST_PROTOCOL)\n",
    "with open('feature_correlation_dict.pickle', 'rb') as handle:\n",
    "    feature_correlation_dict = pickle.load(handle)"
   ]
  },
  {
   "cell_type": "markdown",
   "metadata": {},
   "source": [
    "### Run the functions on the data"
   ]
  },
  {
   "cell_type": "code",
   "execution_count": null,
   "metadata": {},
   "outputs": [],
   "source": [
    "from implementations import *\n",
    "w_mse_gd, loss_mse_gd = mean_squared_error_gd(y_train, x_train, initial_w = np.array([0,0]), max_iters = 50, gamma = 0.1)\n",
    "w_mse_sgd, loss_mse_sgd = mean_squared_error_sgd(y_train, x_train, initial_w = np.array([0,0]), max_iters = 50, gamma = 0.1)\n",
    "w_ls, loss_ls = least_squares(y_train, x_train)\n",
    "w_rr, loss_rr = ridge_regression(y_train, x_train, lambda_ = 0.5)\n",
    "w_lrgd, loss_lrgd = logistic_regression_GD(y_train, x_train, initial_w = np.array([0,0]), max_iters = 50, gamma = 0.1, lambda_ = 0.5)\n",
    "w_lrsgd, loss_lrsgd = logistic_regression_SGD(y_train, x_train, initial_w = np.array([0,0]), max_iters = 50, gamma = 0.1, lambda_ = 0.5)\n",
    "w_reg_lrgd, loss_reg_lrgd = regularized_logistic_regression_GD(y_train, x_train, initial_w = np.array([0,0]), max_iters = 50, gamma = 0.1, lambda_ = 0.5)\n",
    "w_reg_lrsgd, loss_reg_lrsgd = regularized_logistic_regression_SGD(y_train, x_train, initial_w = np.array([0,0]), max_iters = 50, gamma = 0.1, lambda_ = 0.5)"
   ]
  }
 ],
 "metadata": {
  "kernelspec": {
   "display_name": "Python 3",
   "language": "python",
   "name": "python3"
  },
  "language_info": {
   "codemirror_mode": {
    "name": "ipython",
    "version": 3
   },
   "file_extension": ".py",
   "mimetype": "text/x-python",
   "name": "python",
   "nbconvert_exporter": "python",
   "pygments_lexer": "ipython3",
   "version": "3.11.2"
  }
 },
 "nbformat": 4,
 "nbformat_minor": 2
}
