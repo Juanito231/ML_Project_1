{
 "cells": [
  {
   "cell_type": "code",
   "execution_count": 1,
   "metadata": {},
   "outputs": [],
   "source": [
    "from helpers_given import *\n",
    "from preprocess import *\n",
    "from helpers import *"
   ]
  },
  {
   "cell_type": "code",
   "execution_count": 2,
   "metadata": {},
   "outputs": [
    {
     "name": "stdout",
     "output_type": "stream",
     "text": [
      "y_train loaded\n",
      "x_train loaded\n",
      "x_test loaded\n"
     ]
    }
   ],
   "source": [
    "x_train, x_test, y_train, train_ids, test_ids = load_csv_data(\"dataset/\", sub_sample=False)"
   ]
  },
  {
   "cell_type": "code",
   "execution_count": 3,
   "metadata": {},
   "outputs": [
    {
     "name": "stdout",
     "output_type": "stream",
     "text": [
      "321\n",
      "328135\n"
     ]
    }
   ],
   "source": [
    "y_01 = convert_minus1_to_0(y_train)\n",
    "nb_col = x_train.shape[1]\n",
    "nb_rows = x_train.shape[0]\n",
    "print(nb_col)\n",
    "print(nb_rows)\n",
    "#get the features names\n",
    "with open('dataset/x_train.csv', 'r') as f:\n",
    "    features_string = f.readline()\n",
    "    features = features_string.split(',')\n",
    "features = features[1:]"
   ]
  },
  {
   "cell_type": "code",
   "execution_count": 4,
   "metadata": {},
   "outputs": [],
   "source": [
    "nb_nan = nb_of_nans(x_train)\n",
    "# Get reduced data\n",
    "reduced_data, reduced_features, removed_features = removing_features(nb_nan, features, x_train)\n",
    "# remove the same columns from x_test\n",
    "reduced_x_test = np.delete(x_test, removed_features, 1)"
   ]
  },
  {
   "cell_type": "code",
   "execution_count": 5,
   "metadata": {},
   "outputs": [],
   "source": [
    "# Replace nine values with NaNs\n",
    "replace_nine_with_nan(reduced_data)\n",
    "replace_nine_with_nan(reduced_x_test)\n",
    "\n",
    "# Replace seven values with NaNs\n",
    "replace_seven_with_nan(reduced_data)\n",
    "replace_seven_with_nan(reduced_x_test)\n",
    "\n",
    "# Replace 99 values with NaNs\n",
    "replace_99_with_nan(reduced_data)\n",
    "replace_99_with_nan(reduced_x_test)"
   ]
  },
  {
   "cell_type": "code",
   "execution_count": 6,
   "metadata": {},
   "outputs": [],
   "source": [
    "# Remove outliers\n",
    "reduced_data = clean_outliers_modified(reduced_data)\n",
    "reduced_test = clean_outliers_modified(reduced_x_test)\n",
    "\n",
    "# Replace NaNs with medians\n",
    "reduced_median = replace_NaN(reduced_data, method='median')\n",
    "reduced_median_test = replace_NaN(reduced_test, method='median')\n",
    "\n",
    "# Standardize the data\n",
    "std_x = standardize_data(reduced_median)\n",
    "std_test = standardize_data(reduced_median_test)"
   ]
  },
  {
   "cell_type": "code",
   "execution_count": 7,
   "metadata": {},
   "outputs": [
    {
     "name": "stdout",
     "output_type": "stream",
     "text": [
      "139\n",
      "328135\n"
     ]
    }
   ],
   "source": [
    "from implementations import *\n",
    "NB_COL = std_x.shape[1] # corresponds to 'D' = number of features\n",
    "NB_ROWS = std_x.shape[0] # corresponds to 'N' = number of observations/respondents\n",
    "print(NB_COL)\n",
    "print(NB_ROWS)"
   ]
  },
  {
   "cell_type": "code",
   "execution_count": 10,
   "metadata": {},
   "outputs": [
    {
     "name": "stdout",
     "output_type": "stream",
     "text": [
      "[0.0198357  0.02349095 0.01917569 0.02121324 0.08619079 0.04930016\n",
      " 0.06237066 0.17789656 0.17789656 0.87527377 0.62931321 0.2112384\n",
      " 0.13877147 0.17210216 0.06834626 0.23499674 0.75378224 0.29656939\n",
      " 0.72480162 0.17392486 0.29546264 0.29767062 0.65205127 0.58910329\n",
      " 0.24021757 0.4713792  0.58976609 0.25004332 0.09634421 0.30259886\n",
      " 0.04542451 0.42181848 0.74436543 0.35625914 0.38322781 0.51982594\n",
      " 0.08580128 0.05087363 0.64806886 0.67196303 0.36530464 0.34384591\n",
      " 0.74838728 0.41020246 0.48605093 0.3766478  0.00120159 0.29677999\n",
      " 0.00373226 0.09704905 0.08070444 0.17022035 0.06212072 0.06830651\n",
      " 0.27536954 0.21046862 0.10013923 0.24241876 0.61523552 0.14699912\n",
      " 0.27903938 0.03293938 0.01899329 0.15038133 0.00730785 0.1442304\n",
      " 0.06709579 0.16837683 0.82627452 0.15916677 0.76382156 0.32491069\n",
      " 0.17392486 0.19966989 0.19465247 0.58910329 0.07139336 0.04228926\n",
      " 0.09886118 0.10282697 0.0950762  0.10623404 0.08604412 0.77187475\n",
      " 0.65288402 0.79140198 0.72910922 0.04270203 0.04208257 0.18634381\n",
      " 0.1901587  0.20830563 0.167665   0.3657682  0.29861106 0.37851009\n",
      " 0.23982706 0.06877647 0.30520114 0.04348075 0.20889619 0.03026014\n",
      " 0.08924719 0.07332349 0.10824791 0.02456031 0.14648619 0.04036538\n",
      " 0.05821735 0.01031106 0.00468906 0.00422695 0.03035162 0.05240217\n",
      " 0.04226895 0.09738508 0.00730671 0.00154104 0.00492377 0.03018361\n",
      " 0.27536954 0.10358727 0.05330753 0.08873316 0.0293485  0.18584744\n",
      " 0.15092936 0.22570179 0.18944123 0.04840002 0.142707   0.18267535\n",
      " 0.14262498 0.59775559 0.54939025 0.61715893 0.08480918 0.05350774\n",
      " 0.14699912]\n",
      "(23,)\n"
     ]
    }
   ],
   "source": [
    "# try with a few columns\n",
    "mean_0 = np.nanmean(std_x[y_01==0, :], axis=0)\n",
    "mean_1 = np.nanmean(std_x[y_01==1, :], axis=0)\n",
    "diff_in_means = np.abs(mean_0 - mean_1)\n",
    "print(diff_in_means)\n",
    "print(diff_in_means[diff_in_means>0.5].shape)"
   ]
  },
  {
   "cell_type": "code",
   "execution_count": 11,
   "metadata": {},
   "outputs": [
    {
     "name": "stdout",
     "output_type": "stream",
     "text": [
      "(139,)\n"
     ]
    }
   ],
   "source": [
    "print(diff_in_means.shape)"
   ]
  },
  {
   "cell_type": "code",
   "execution_count": 13,
   "metadata": {},
   "outputs": [
    {
     "name": "stdout",
     "output_type": "stream",
     "text": [
      "23\n"
     ]
    }
   ],
   "source": [
    "std_reduced_x = std_x[:, diff_in_means > 0.5]\n",
    "std_reduced_test = std_x[:, diff_in_means > 0.5]\n",
    "NB_COL_REDUCED = std_reduced_x.shape[1]\n",
    "print(NB_COL_REDUCED)"
   ]
  },
  {
   "cell_type": "code",
   "execution_count": null,
   "metadata": {},
   "outputs": [],
   "source": [
    "from cross_validation import *"
   ]
  },
  {
   "cell_type": "code",
   "execution_count": 27,
   "metadata": {},
   "outputs": [
    {
     "name": "stderr",
     "output_type": "stream",
     "text": [
      "c:\\ML_Project_1\\helpers.py:11: RuntimeWarning: overflow encountered in exp\n",
      "  return 1.0 / (1 + np.exp(-z))\n",
      "c:\\ML_Project_1\\helpers.py:135: RuntimeWarning: invalid value encountered in scalar divide\n",
      "  return true_positives / (true_positives + false_positives)\n"
     ]
    }
   ],
   "source": [
    "# GD\n",
    "F1 = np.zeros(5)\n",
    "for degree in range(5):\n",
    "    tx = build_poly(std_reduced_x, degree)\n",
    "    w0 = np.zeros(tx.shape[1])\n",
    "    w_mse_gd, loss_mse_gd = mean_squared_error_gd(y_01, tx, w0, max_iters = 50, gamma = 0.01)\n",
    "    y_mse_gd = convert_predict(tx @ w_mse_gd)\n",
    "    F1[degree] = compute_f1(y_01, y_mse_gd)\n"
   ]
  },
  {
   "cell_type": "code",
   "execution_count": 28,
   "metadata": {},
   "outputs": [
    {
     "name": "stdout",
     "output_type": "stream",
     "text": [
      "[0.16227493 0.25679431 0.20090015 0.01014631        nan]\n"
     ]
    }
   ],
   "source": [
    "print(F1)"
   ]
  },
  {
   "cell_type": "code",
   "execution_count": 29,
   "metadata": {},
   "outputs": [
    {
     "name": "stdout",
     "output_type": "stream",
     "text": [
      "[0.16227493 0.24203733 0.19851635 0.20610448 0.20701987]\n"
     ]
    }
   ],
   "source": [
    "# RR\n",
    "F1_rr = np.zeros(5)\n",
    "for degree in range(5):\n",
    "    tx = build_poly(std_reduced_x, degree)\n",
    "    w0 = np.zeros(tx.shape[1])\n",
    "    w_mse_gd, loss_mse_gd = ridge_regression(y_01, tx, lambda_=0.5)\n",
    "    y_mse_gd = convert_predict(tx @ w_mse_gd)\n",
    "    F1_rr[degree] = compute_f1(y_01, y_mse_gd)\n",
    "print(F1_rr)"
   ]
  }
 ],
 "metadata": {
  "kernelspec": {
   "display_name": "Python 3",
   "language": "python",
   "name": "python3"
  },
  "language_info": {
   "codemirror_mode": {
    "name": "ipython",
    "version": 3
   },
   "file_extension": ".py",
   "mimetype": "text/x-python",
   "name": "python",
   "nbconvert_exporter": "python",
   "pygments_lexer": "ipython3",
   "version": "3.11.2"
  }
 },
 "nbformat": 4,
 "nbformat_minor": 2
}
