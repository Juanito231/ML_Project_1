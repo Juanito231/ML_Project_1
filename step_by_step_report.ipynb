{
 "cells": [
  {
   "cell_type": "code",
   "execution_count": null,
   "metadata": {},
   "outputs": [],
   "source": [
    "import numpy as np\n",
    "from helpers_given import load_csv_data\n",
    "from implementations import *\n",
    "from helpers import *\n",
    "from preprocess import *\n",
    "from cross_validation import *\n",
    "\n",
    "seed = 1\n",
    "np.random.seed(1)"
   ]
  },
  {
   "cell_type": "code",
   "execution_count": null,
   "metadata": {},
   "outputs": [],
   "source": [
    "# load the data\n",
    "x_train, x_test, y_train, train_ids, test_ids = load_csv_data(\"dataset/\", sub_sample=False)"
   ]
  },
  {
   "cell_type": "code",
   "execution_count": null,
   "metadata": {},
   "outputs": [],
   "source": [
    "# convert y to values in {0,1} to use the same prediction for every method\n",
    "y_train_01 = convert_minus1_to_0(y_train)"
   ]
  },
  {
   "cell_type": "markdown",
   "metadata": {},
   "source": [
    "# Without dropping any columns"
   ]
  },
  {
   "cell_type": "markdown",
   "metadata": {},
   "source": [
    "We just replace the nans by the mean of the corresponding column."
   ]
  },
  {
   "cell_type": "code",
   "execution_count": null,
   "metadata": {},
   "outputs": [],
   "source": [
    "tx_clean = np.where(np.isnan(x_train), np.ma.array(x_train, mask=np.isnan(x_train)).mean(axis=0), x_train) "
   ]
  },
  {
   "cell_type": "code",
   "execution_count": null,
   "metadata": {},
   "outputs": [],
   "source": [
    "def prediction(tx, w):\n",
    "    return convert_predict(tx@w)"
   ]
  },
  {
   "cell_type": "markdown",
   "metadata": {},
   "source": [
    "### For mean_squared_error_gd"
   ]
  },
  {
   "cell_type": "code",
   "execution_count": null,
   "metadata": {},
   "outputs": [],
   "source": [
    "w, loss = mean_squared_error_gd(y_train_01, tx_clean, np.zeros(tx_clean.shape[1]), max_iters=100, gamma=0.01)\n",
    "a = compute_accuracy(y_train_01, prediction(tx_clean, w))"
   ]
  },
  {
   "cell_type": "code",
   "execution_count": null,
   "metadata": {},
   "outputs": [],
   "source": [
    "k_fold = 4\n",
    "max_iter = 100\n",
    "k_indices = build_k_indices(y_train_01, k_fold, seed)\n",
    "gammas = [1e-5]\n",
    "\n",
    "for gamma_ in gammas:\n",
    "    accuracy = []\n",
    "    for k in range(k_fold):\n",
    "        te_indice = k_indices[k]\n",
    "        tr_indice = k_indices[~(np.arange(k_indices.shape[0]) == k)]\n",
    "        tr_indice = tr_indice.reshape(-1)\n",
    "        y_te = y_train_01[te_indice]\n",
    "        y_tr = y_train_01[tr_indice]\n",
    "        tx_te = tx_clean[te_indice]\n",
    "        tx_tr = tx_clean[tr_indice]\n",
    "        w, loss_tr = mean_squared_error_gd(y_tr, tx_tr, np.zeros(tx_tr.shape[1]), max_iter, gamma_)\n",
    "        a = compute_accuracy(y_te, prediction(tx_te, w))\n",
    "        accuracy.append(a)\n",
    "    print(\"for gamma= \", gamma_)\n",
    "    print(np.mean(accuracy), np.std(accuracy))"
   ]
  },
  {
   "cell_type": "markdown",
   "metadata": {},
   "source": [
    "### For mean_squared_error_sgd"
   ]
  },
  {
   "cell_type": "code",
   "execution_count": null,
   "metadata": {},
   "outputs": [],
   "source": [
    "k_fold = 4\n",
    "max_iter = 100\n",
    "k_indices = build_k_indices(y_train_01, k_fold, seed)\n",
    "gammas = [1e-7]\n",
    "\n",
    "for gamma_ in gammas:\n",
    "    accuracy = []\n",
    "    for k in range(k_fold):\n",
    "        te_indice = k_indices[k]\n",
    "        tr_indice = k_indices[~(np.arange(k_indices.shape[0]) == k)]\n",
    "        tr_indice = tr_indice.reshape(-1)\n",
    "        y_te = y_train_01[te_indice]\n",
    "        y_tr = y_train_01[tr_indice]\n",
    "        tx_te = tx_clean[te_indice]\n",
    "        tx_tr = tx_clean[tr_indice]\n",
    "        w, loss_tr = mean_squared_error_sgd(y_tr, tx_tr, np.zeros(tx_tr.shape[1]), max_iter, gamma_)\n",
    "        a = compute_accuracy(y_te, prediction(tx_te, w))\n",
    "        accuracy.append(a)\n",
    "    print(\"for gamma= \", gamma_)\n",
    "    print(np.mean(accuracy), np.std(accuracy))"
   ]
  },
  {
   "cell_type": "markdown",
   "metadata": {},
   "source": [
    "### For ridge_regression"
   ]
  },
  {
   "cell_type": "code",
   "execution_count": null,
   "metadata": {},
   "outputs": [],
   "source": [
    "k_fold = 4\n",
    "k_indices = build_k_indices(y_train_01, k_fold, seed)\n",
    "lambdas = [0.05]\n",
    "\n",
    "for lambda_ in lambdas:\n",
    "    accuracy = []\n",
    "    for k in range(k_fold):\n",
    "        te_indice = k_indices[k]\n",
    "        tr_indice = k_indices[~(np.arange(k_indices.shape[0]) == k)]\n",
    "        tr_indice = tr_indice.reshape(-1)\n",
    "        y_te = y_train_01[te_indice]\n",
    "        y_tr = y_train_01[tr_indice]\n",
    "        tx_te = tx_clean[te_indice]\n",
    "        tx_tr = tx_clean[tr_indice]\n",
    "        w, loss_tr = ridge_regression(y_tr, tx_tr, lambda_)\n",
    "        a = compute_accuracy(y_te, prediction(tx_te, w))\n",
    "        accuracy.append(a)\n",
    "    print(\"for lambda= \", lambda_)\n",
    "    print(np.mean(accuracy), np.std(accuracy))"
   ]
  },
  {
   "cell_type": "markdown",
   "metadata": {},
   "source": [
    "### For least_squares"
   ]
  },
  {
   "cell_type": "code",
   "execution_count": null,
   "metadata": {},
   "outputs": [],
   "source": [
    "k_fold = 4\n",
    "k_indices = build_k_indices(y_train_01, k_fold, seed)\n",
    "\n",
    "accuracy = []\n",
    "for k in range(k_fold):\n",
    "    te_indice = k_indices[k]\n",
    "    tr_indice = k_indices[~(np.arange(k_indices.shape[0]) == k)]\n",
    "    tr_indice = tr_indice.reshape(-1)\n",
    "    y_te = y_train_01[te_indice]\n",
    "    y_tr = y_train_01[tr_indice]\n",
    "    tx_te = tx_clean[te_indice]\n",
    "    tx_tr = tx_clean[tr_indice]\n",
    "    w, loss_tr = least_squares(y_tr, tx_tr)\n",
    "    a = compute_accuracy(y_te, prediction(tx_te, w))\n",
    "    accuracy.append(a)\n",
    "print(np.mean(accuracy), np.std(accuracy))"
   ]
  },
  {
   "cell_type": "markdown",
   "metadata": {},
   "source": [
    "### For logistic_regression"
   ]
  },
  {
   "cell_type": "code",
   "execution_count": null,
   "metadata": {},
   "outputs": [],
   "source": [
    "k_fold = 4\n",
    "max_iter = 100\n",
    "k_indices = build_k_indices(y_train_01, k_fold, seed)\n",
    "gammas = [0.5]\n",
    "\n",
    "for gamma_ in gammas:\n",
    "    accuracy = []\n",
    "    for k in range(k_fold):\n",
    "        te_indice = k_indices[k]\n",
    "        tr_indice = k_indices[~(np.arange(k_indices.shape[0]) == k)]\n",
    "        tr_indice = tr_indice.reshape(-1)\n",
    "        y_te = y_train_01[te_indice]\n",
    "        y_tr = y_train_01[tr_indice]\n",
    "        tx_te = tx_clean[te_indice]\n",
    "        tx_tr = tx_clean[tr_indice]\n",
    "        w, loss_tr = logistic_regression(y_tr, tx_tr, np.zeros(tx_tr.shape[1]), max_iter, gamma_)\n",
    "        a = compute_accuracy(y_te, prediction(tx_te, w))\n",
    "        accuracy.append(a)\n",
    "    print(\"for gamma= \", gamma_)\n",
    "    print(np.mean(accuracy), np.std(accuracy))"
   ]
  },
  {
   "cell_type": "markdown",
   "metadata": {},
   "source": [
    "### For reg_logistic_regression"
   ]
  },
  {
   "cell_type": "code",
   "execution_count": null,
   "metadata": {},
   "outputs": [],
   "source": [
    "k_fold = 4\n",
    "max_iter = 100\n",
    "k_indices = build_k_indices(y_train_01, k_fold, seed)\n",
    "gamma = 0.5\n",
    "lambdas = [0.1]\n",
    "\n",
    "for lambda_ in lambdas:\n",
    "    accuracy = []\n",
    "    for k in range(k_fold):\n",
    "        te_indice = k_indices[k]\n",
    "        tr_indice = k_indices[~(np.arange(k_indices.shape[0]) == k)]\n",
    "        tr_indice = tr_indice.reshape(-1)\n",
    "        y_te = y_train_01[te_indice]\n",
    "        y_tr = y_train_01[tr_indice]\n",
    "        tx_te = tx_clean[te_indice]\n",
    "        tx_tr = tx_clean[tr_indice]\n",
    "        w, loss_tr = reg_logistic_regression(y_tr, tx_tr, lambda_, np.zeros(tx_tr.shape[1]), max_iter, gamma)\n",
    "        a = compute_accuracy(y_te, prediction(tx_te, w))\n",
    "        accuracy.append(a)\n",
    "    print(\"for lambda= \", lambda_)\n",
    "    print(np.mean(accuracy), np.std(accuracy))"
   ]
  }
 ],
 "metadata": {
  "kernelspec": {
   "display_name": "Python 3",
   "language": "python",
   "name": "python3"
  },
  "language_info": {
   "codemirror_mode": {
    "name": "ipython",
    "version": 3
   },
   "file_extension": ".py",
   "mimetype": "text/x-python",
   "name": "python",
   "nbconvert_exporter": "python",
   "pygments_lexer": "ipython3",
   "version": "3.11.2"
  }
 },
 "nbformat": 4,
 "nbformat_minor": 2
}
